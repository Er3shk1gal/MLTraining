{
 "cells": [
  {
   "cell_type": "markdown",
   "metadata": {},
   "source": [
    "Работа с sklearn, для понимания основных методов обучения, которые понадобятся мне для работы с фото\n",
    "\n",
    "Подключение "
   ]
  },
  {
   "cell_type": "code",
   "execution_count": 34,
   "metadata": {},
   "outputs": [],
   "source": [
    "import numpy as np # linear algebra\n",
    "import pandas as pd # data processing, CSV file I/O (e.g. pd.read_csv)\n",
    "import matplotlib.pyplot as plt\n",
    "import seaborn as sns\n",
    "from sklearn.model_selection import GridSearchCV\n",
    "from sklearn.metrics import confusion_matrix, accuracy_score\n",
    "from sklearn.model_selection import cross_val_score\n",
    "from sklearn.metrics import accuracy_score\n",
    "from imblearn.pipeline import make_pipeline\n",
    "import warnings\n",
    "warnings.filterwarnings('ignore')"
   ]
  },
  {
   "cell_type": "markdown",
   "metadata": {},
   "source": [
    "Импорт данных"
   ]
  },
  {
   "cell_type": "code",
   "execution_count": 35,
   "metadata": {},
   "outputs": [
    {
     "name": "stdout",
     "output_type": "stream",
     "text": [
      "   PassengerId  Survived  Pclass  \\\n",
      "0            1         0       3   \n",
      "1            2         1       1   \n",
      "2            3         1       3   \n",
      "3            4         1       1   \n",
      "4            5         0       3   \n",
      "\n",
      "                                                Name     Sex   Age  SibSp  \\\n",
      "0                            Braund, Mr. Owen Harris    male  22.0      1   \n",
      "1  Cumings, Mrs. John Bradley (Florence Briggs Th...  female  38.0      1   \n",
      "2                             Heikkinen, Miss. Laina  female  26.0      0   \n",
      "3       Futrelle, Mrs. Jacques Heath (Lily May Peel)  female  35.0      1   \n",
      "4                           Allen, Mr. William Henry    male  35.0      0   \n",
      "\n",
      "   Parch            Ticket     Fare Cabin Embarked  \n",
      "0      0         A/5 21171   7.2500   NaN        S  \n",
      "1      0          PC 17599  71.2833   C85        C  \n",
      "2      0  STON/O2. 3101282   7.9250   NaN        S  \n",
      "3      0            113803  53.1000  C123        S  \n",
      "4      0            373450   8.0500   NaN        S  \n"
     ]
    }
   ],
   "source": [
    "\n",
    "df1 = pd.read_csv('test.csv')\n",
    "df2 = pd.read_csv('train.csv')\n",
    "df3 = pd.read_csv('gender_submission.csv')\n",
    "print(df2.head())\n"
   ]
  },
  {
   "cell_type": "markdown",
   "metadata": {},
   "source": [
    "Теперь получим процент женщин и мужчин"
   ]
  },
  {
   "cell_type": "code",
   "execution_count": 36,
   "metadata": {},
   "outputs": [
    {
     "name": "stdout",
     "output_type": "stream",
     "text": [
      "% of women who survived: 0.7420382165605095\n",
      "% of men who survived: 0.18890814558058924\n"
     ]
    }
   ],
   "source": [
    "women = df2.loc[df2.Sex == 'female'][\"Survived\"]\n",
    "rate_women = sum(women)/len(women)\n",
    "\n",
    "print(\"% of women who survived:\", rate_women)\n",
    "\n",
    "men = df2.loc[df2.Sex == 'male'][\"Survived\"]\n",
    "rate_men = sum(men)/len(men)\n",
    "\n",
    "print(\"% of men who survived:\", rate_men)\n"
   ]
  },
  {
   "cell_type": "code",
   "execution_count": 37,
   "metadata": {},
   "outputs": [
    {
     "name": "stdout",
     "output_type": "stream",
     "text": [
      "<class 'pandas.core.frame.DataFrame'>\n",
      "RangeIndex: 891 entries, 0 to 890\n",
      "Data columns (total 12 columns):\n",
      " #   Column       Non-Null Count  Dtype  \n",
      "---  ------       --------------  -----  \n",
      " 0   PassengerId  891 non-null    int64  \n",
      " 1   Survived     891 non-null    int64  \n",
      " 2   Pclass       891 non-null    int64  \n",
      " 3   Name         891 non-null    object \n",
      " 4   Sex          891 non-null    object \n",
      " 5   Age          714 non-null    float64\n",
      " 6   SibSp        891 non-null    int64  \n",
      " 7   Parch        891 non-null    int64  \n",
      " 8   Ticket       891 non-null    object \n",
      " 9   Fare         891 non-null    float64\n",
      " 10  Cabin        204 non-null    object \n",
      " 11  Embarked     889 non-null    object \n",
      "dtypes: float64(2), int64(5), object(5)\n",
      "memory usage: 83.7+ KB\n",
      "None\n"
     ]
    }
   ],
   "source": [
    "print(df2.info())"
   ]
  },
  {
   "cell_type": "markdown",
   "metadata": {},
   "source": [
    "Посмотрим на взаимоотношения между различными величинами в датасете"
   ]
  },
  {
   "cell_type": "code",
   "execution_count": 38,
   "metadata": {},
   "outputs": [
    {
     "data": {
      "image/png": "[encoded data removed]",
      "text/plain": [
       "<Figure size 1000x600 with 1 Axes>"
      ]
     },
     "metadata": {},
     "output_type": "display_data"
    },
    {
     "data": {
      "text/plain": [
       "<Axes: title={'center': 'Survived and not survived people with their Fare and Age'}, xlabel='Survived', ylabel='Age'>"
      ]
     },
     "execution_count": 38,
     "metadata": {},
     "output_type": "execute_result"
    },
    {
     "data": {
      "image/png": "[encoded data removed]",
      "text/plain": [
       "<Figure size 640x480 with 1 Axes>"
      ]
     },
     "metadata": {},
     "output_type": "display_data"
    }
   ],
   "source": [
    "\n",
    "\n",
    "plt.figure(figsize=(10,6))\n",
    "\n",
    "\n",
    "sns.barplot(x=df2['Sex'],\n",
    "             y=df2['Survived'])\n",
    "plt.show()\n",
    "\n",
    "\n",
    "plt.title(\"Age of people who survived or did not survive\")\n",
    "sns.swarmplot(x=df2['Survived'], y=df2['Age'])\n",
    "plt.title(\"People's Fair who survived or did not survive\")\n",
    "sns.swarmplot(x=df2['Survived'], y=df2['Fare'])\n",
    "\n",
    "\n",
    "plt.title(\"Survived and not survived people with their Fare and Age\")\n",
    "sns.scatterplot(x=df2['Age'], y=df2['Fare'], hue=df2['Survived'])\n",
    "\n",
    "\n"
   ]
  },
  {
   "cell_type": "markdown",
   "metadata": {},
   "source": [
    "Извлекаем целевую переменную для дальнейшей работы с датасетом:"
   ]
  },
  {
   "cell_type": "code",
   "execution_count": 39,
   "metadata": {},
   "outputs": [
    {
     "data": {
      "text/plain": [
       "(891,)"
      ]
     },
     "execution_count": 39,
     "metadata": {},
     "output_type": "execute_result"
    }
   ],
   "source": [
    "y=df2['Survived'].values\n",
    "y.shape"
   ]
  },
  {
   "cell_type": "markdown",
   "metadata": {},
   "source": [
    "Собираем вместе тренировочную и тестовую дату"
   ]
  },
  {
   "cell_type": "code",
   "execution_count": 40,
   "metadata": {},
   "outputs": [
    {
     "name": "stdout",
     "output_type": "stream",
     "text": [
      "      PassengerId  Pclass                                               Name  \\\n",
      "0               1       3                            Braund, Mr. Owen Harris   \n",
      "1               2       1  Cumings, Mrs. John Bradley (Florence Briggs Th...   \n",
      "2               3       3                             Heikkinen, Miss. Laina   \n",
      "3               4       1       Futrelle, Mrs. Jacques Heath (Lily May Peel)   \n",
      "4               5       3                           Allen, Mr. William Henry   \n",
      "...           ...     ...                                                ...   \n",
      "1304         1305       3                                 Spector, Mr. Woolf   \n",
      "1305         1306       1                       Oliva y Ocana, Dona. Fermina   \n",
      "1306         1307       3                       Saether, Mr. Simon Sivertsen   \n",
      "1307         1308       3                                Ware, Mr. Frederick   \n",
      "1308         1309       3                           Peter, Master. Michael J   \n",
      "\n",
      "         Sex   Age  SibSp  Parch              Ticket      Fare Cabin Embarked  \n",
      "0       male  22.0      1      0           A/5 21171    7.2500   NaN        S  \n",
      "1     female  38.0      1      0            PC 17599   71.2833   C85        C  \n",
      "2     female  26.0      0      0    STON/O2. 3101282    7.9250   NaN        S  \n",
      "3     female  35.0      1      0              113803   53.1000  C123        S  \n",
      "4       male  35.0      0      0              373450    8.0500   NaN        S  \n",
      "...      ...   ...    ...    ...                 ...       ...   ...      ...  \n",
      "1304    male   NaN      0      0           A.5. 3236    8.0500   NaN        S  \n",
      "1305  female  39.0      0      0            PC 17758  108.9000  C105        C  \n",
      "1306    male  38.5      0      0  SOTON/O.Q. 3101262    7.2500   NaN        S  \n",
      "1307    male   NaN      0      0              359309    8.0500   NaN        S  \n",
      "1308    male   NaN      1      1                2668   22.3583   NaN        C  \n",
      "\n",
      "[1309 rows x 11 columns]\n"
     ]
    }
   ],
   "source": [
    "\n",
    "# первым столбец \n",
    "df2=df2.drop(['Survived'], axis=1)\n",
    "# сращиtest_dataваем таблицы\n",
    "concated_data=pd.concat([df2,df1],ignore_index=True)\n",
    "print(concated_data)\n",
    "\n"
   ]
  },
  {
   "cell_type": "markdown",
   "metadata": {},
   "source": [
    "Далее для облегчения предсказания выживания чел-ка, необходимо понять, ехал он в одиночку или вместе с кем-то"
   ]
  },
  {
   "cell_type": "code",
   "execution_count": 41,
   "metadata": {},
   "outputs": [
    {
     "name": "stdout",
     "output_type": "stream",
     "text": [
      "   PassengerId  Pclass                                               Name  \\\n",
      "0            1       3                            Braund, Mr. Owen Harris   \n",
      "1            2       1  Cumings, Mrs. John Bradley (Florence Briggs Th...   \n",
      "2            3       3                             Heikkinen, Miss. Laina   \n",
      "3            4       1       Futrelle, Mrs. Jacques Heath (Lily May Peel)   \n",
      "4            5       3                           Allen, Mr. William Henry   \n",
      "\n",
      "      Sex   Age  SibSp  Parch            Ticket     Fare Cabin Embarked  \\\n",
      "0    male  22.0      1      0         A/5 21171   7.2500   NaN        S   \n",
      "1  female  38.0      1      0          PC 17599  71.2833   C85        C   \n",
      "2  female  26.0      0      0  STON/O2. 3101282   7.9250   NaN        S   \n",
      "3  female  35.0      1      0            113803  53.1000  C123        S   \n",
      "4    male  35.0      0      0            373450   8.0500   NaN        S   \n",
      "\n",
      "   Relatives  Alone  \n",
      "0          1    0.0  \n",
      "1          1    0.0  \n",
      "2          0    1.0  \n",
      "3          1    0.0  \n",
      "4          0    1.0  \n"
     ]
    }
   ],
   "source": [
    "concated_data['Relatives'] = concated_data['SibSp'] + concated_data['Parch']\n",
    "concated_data.loc[concated_data['Relatives'] > 0, 'Alone'] = 0\n",
    "concated_data.loc[concated_data['Relatives'] == 0, 'Alone'] = 1\n",
    "print(concated_data.head())"
   ]
  },
  {
   "cell_type": "markdown",
   "metadata": {},
   "source": [
    "Далее датасет надо очистить от пустых полей"
   ]
  },
  {
   "cell_type": "code",
   "execution_count": 42,
   "metadata": {},
   "outputs": [
    {
     "name": "stdout",
     "output_type": "stream",
     "text": [
      "PassengerId column missing values: 0\n",
      "Pclass column missing values: 0\n",
      "Name column missing values: 0\n",
      "Sex column missing values: 0\n",
      "Age column missing values: 263\n",
      "SibSp column missing values: 0\n",
      "Parch column missing values: 0\n",
      "Ticket column missing values: 0\n",
      "Fare column missing values: 1\n",
      "Cabin column missing values: 1014\n",
      "Embarked column missing values: 2\n",
      "Relatives column missing values: 0\n",
      "Alone column missing values: 0\n"
     ]
    }
   ],
   "source": [
    "for col in concated_data.columns:\n",
    "    print('{} column missing values: {}'.format(col, concated_data[col].isnull().sum()))"
   ]
  },
  {
   "cell_type": "markdown",
   "metadata": {},
   "source": [
    "Выведем пустые поля внутри concated_data"
   ]
  },
  {
   "cell_type": "code",
   "execution_count": 43,
   "metadata": {},
   "outputs": [
    {
     "data": {
      "text/html": [
       "<div>\n",
       "<style scoped>\n",
       "    .dataframe tbody tr th:only-of-type {\n",
       "        vertical-align: middle;\n",
       "    }\n",
       "\n",
       "    .dataframe tbody tr th {\n",
       "        vertical-align: top;\n",
       "    }\n",
       "\n",
       "    .dataframe thead th {\n",
       "        text-align: right;\n",
       "    }\n",
       "</style>\n",
       "<table border=\"1\" class=\"dataframe\">\n",
       "  <thead>\n",
       "    <tr style=\"text-align: right;\">\n",
       "      <th></th>\n",
       "      <th>PassengerId</th>\n",
       "      <th>Pclass</th>\n",
       "      <th>Name</th>\n",
       "      <th>Sex</th>\n",
       "      <th>Age</th>\n",
       "      <th>SibSp</th>\n",
       "      <th>Parch</th>\n",
       "      <th>Ticket</th>\n",
       "      <th>Fare</th>\n",
       "      <th>Cabin</th>\n",
       "      <th>Embarked</th>\n",
       "      <th>Relatives</th>\n",
       "      <th>Alone</th>\n",
       "    </tr>\n",
       "  </thead>\n",
       "  <tbody>\n",
       "    <tr>\n",
       "      <th>61</th>\n",
       "      <td>62</td>\n",
       "      <td>1</td>\n",
       "      <td>Icard, Miss. Amelie</td>\n",
       "      <td>female</td>\n",
       "      <td>38.0</td>\n",
       "      <td>0</td>\n",
       "      <td>0</td>\n",
       "      <td>113572</td>\n",
       "      <td>80.0</td>\n",
       "      <td>B28</td>\n",
       "      <td>NaN</td>\n",
       "      <td>0</td>\n",
       "      <td>1.0</td>\n",
       "    </tr>\n",
       "    <tr>\n",
       "      <th>829</th>\n",
       "      <td>830</td>\n",
       "      <td>1</td>\n",
       "      <td>Stone, Mrs. George Nelson (Martha Evelyn)</td>\n",
       "      <td>female</td>\n",
       "      <td>62.0</td>\n",
       "      <td>0</td>\n",
       "      <td>0</td>\n",
       "      <td>113572</td>\n",
       "      <td>80.0</td>\n",
       "      <td>B28</td>\n",
       "      <td>NaN</td>\n",
       "      <td>0</td>\n",
       "      <td>1.0</td>\n",
       "    </tr>\n",
       "  </tbody>\n",
       "</table>\n",
       "</div>"
      ],
      "text/plain": [
       "     PassengerId  Pclass                                       Name     Sex  \\\n",
       "61            62       1                        Icard, Miss. Amelie  female   \n",
       "829          830       1  Stone, Mrs. George Nelson (Martha Evelyn)  female   \n",
       "\n",
       "      Age  SibSp  Parch  Ticket  Fare Cabin Embarked  Relatives  Alone  \n",
       "61   38.0      0      0  113572  80.0   B28      NaN          0    1.0  \n",
       "829  62.0      0      0  113572  80.0   B28      NaN          0    1.0  "
      ]
     },
     "execution_count": 43,
     "metadata": {},
     "output_type": "execute_result"
    }
   ],
   "source": [
    "concated_data[concated_data['Embarked'].isnull()]"
   ]
  },
  {
   "cell_type": "markdown",
   "metadata": {},
   "source": [
    "Теперь перейдём к очистке пустых полей"
   ]
  },
  {
   "cell_type": "code",
   "execution_count": 44,
   "metadata": {},
   "outputs": [
    {
     "name": "stdout",
     "output_type": "stream",
     "text": [
      "row 61:  S\n",
      "row 829:  S\n"
     ]
    }
   ],
   "source": [
    "concated_data['Embarked'] = concated_data['Embarked'].fillna('S')\n",
    "print(\"row 61: \",concated_data.iloc[61,10])\n",
    "print(\"row 829: \",concated_data.iloc[829,10])\n"
   ]
  },
  {
   "cell_type": "markdown",
   "metadata": {},
   "source": [
    "После нам необходимо отобрать признаки на основе которых бы будем обучать модель, в данном случае имеет значение:\n",
    "класс пассажира, пол, возраст, наличие детей/родителей на борту, стоимость проезда, класс билета и родственники"
   ]
  },
  {
   "cell_type": "code",
   "execution_count": 45,
   "metadata": {},
   "outputs": [
    {
     "name": "stdout",
     "output_type": "stream",
     "text": [
      "[[3 'male' 22.0 1 0 7.25 'S' 1]\n",
      " [1 'female' 38.0 1 0 71.2833 'C' 1]\n",
      " [3 'female' 26.0 0 0 7.925 'S' 0]\n",
      " [1 'female' 35.0 1 0 53.1 'S' 1]\n",
      " [3 'male' 35.0 0 0 8.05 'S' 0]]\n"
     ]
    }
   ],
   "source": [
    "X=concated_data[['Pclass','Sex','Age','SibSp','Parch','Fare','Embarked','Relatives']].values\n",
    "print(X[0:5,:])"
   ]
  },
  {
   "cell_type": "markdown",
   "metadata": {},
   "source": [
    "Далее мы убираем пустые значение с помощью SimpleImputer"
   ]
  },
  {
   "cell_type": "markdown",
   "metadata": {},
   "source": [
    "`SimpleImputer` — это класс из библиотеки `scikit-learn`, который используется для обработки пропущенных значений в наборах данных. Пропущенные значения могут возникать по разным причинам, и их наличие может негативно сказаться на качестве модели машинного обучения. `SimpleImputer` позволяет заполнять (импутировать) эти пропуски различными способами.\n",
    "\n",
    "### Основные функции `SimpleImputer`:\n",
    "\n",
    "1. **Заполнение пропусков**: `SimpleImputer` может заполнять пропущенные значения с использованием различных стратегий, таких как:\n",
    "   - `mean`: среднее значение по столбцу (для числовых данных).\n",
    "   - `median`: медиана по столбцу.\n",
    "   - `most_frequent`: наиболее часто встречающееся значение.\n",
    "   - `constant`: заполнение фиксированным значением.\n",
    "\n",
    "2. **Простота использования**: Класс имеет простой интерфейс, который позволяет легко интегрировать его в процесс предобработки данных.\n",
    "\n",
    "3. **Поддержка различных типов данных**: `SimpleImputer` может работать как с числовыми, так и с категориальными данными.\n",
    "\n",
    "### Пример использования:\n",
    "\n",
    "```python\n",
    "import numpy as np\n",
    "import pandas as pd\n",
    "from sklearn.impute import SimpleImputer\n",
    "\n",
    "# Пример данных с пропущенными значениями\n",
    "data = pd.DataFrame({\n",
    "    'A': [1, 2, np.nan, 4],\n",
    "    'B': [np.nan, 'b', 'c', 'd'],\n",
    "})\n",
    "\n",
    "# Создание объекта SimpleImputer\n",
    "imputer = SimpleImputer(strategy='mean')  # Для числовых данных\n",
    "data['A'] = imputer.fit_transform(data[['A']])\n",
    "\n",
    "imputer_cat = SimpleImputer(strategy='most_frequent')  # Для категориальных данных\n",
    "data['B'] = imputer_cat.fit_transform(data[['B']])\n",
    "\n",
    "print(data)\n",
    "```\n",
    "\n",
    "В этом примере пропущенные значения в столбце `A` заполняются средним значением, а в столбце `B` — наиболее часто встречающимся значением.\n",
    "\n",
    "### Когда использовать `SimpleImputer`:\n",
    "\n",
    "- Когда в данных есть пропущенные значения, и необходимо их обработать перед обучением модели.\n",
    "- Когда нужно быстро и просто заполнить пропуски без сложных методов.\n",
    "\n",
    "Использование `SimpleImputer` помогает улучшить качество данных и, как следствие, качество модели машинного обучения.\n"
   ]
  },
  {
   "cell_type": "code",
   "execution_count": 46,
   "metadata": {},
   "outputs": [
    {
     "name": "stdout",
     "output_type": "stream",
     "text": [
      "[[3 'male' 22.0 1 0 7.25 'S' 1]\n",
      " [1 'female' 38.0 1 0 71.2833 'C' 1]\n",
      " [3 'female' 26.0 0 0 7.925 'S' 0]\n",
      " [1 'female' 35.0 1 0 53.1 'S' 1]\n",
      " [3 'male' 35.0 0 0 8.05 'S' 0]\n",
      " [3 'male' 29.881137667304014 0 0 8.4583 'Q' 0]]\n"
     ]
    }
   ],
   "source": [
    "from sklearn.impute import SimpleImputer\n",
    "imputer=SimpleImputer(missing_values=np.nan, strategy='mean')\n",
    "\n",
    "imputer.fit(X[:,2].reshape(-1,1))\n",
    "X[:,2]=(imputer.transform(X[:,2].reshape(-1,1))).reshape(-1,)\n",
    "\n",
    "imputer.fit(X[:,5].reshape(-1,1))\n",
    "X[:,5]=(imputer.transform(X[:,5].reshape(-1,1))).reshape(-1,)\n",
    "\n",
    "print(X[:6])"
   ]
  },
  {
   "cell_type": "markdown",
   "metadata": {},
   "source": [
    "Теперь закодируем категориальные данные, используе м \n",
    "onehotencoder"
   ]
  },
  {
   "cell_type": "code",
   "execution_count": 47,
   "metadata": {},
   "outputs": [
    {
     "name": "stdout",
     "output_type": "stream",
     "text": [
      "[[0.0 0.0 1.0 3 'male' 22.0 1 0 7.25 1]\n",
      " [1.0 0.0 0.0 1 'female' 38.0 1 0 71.2833 1]\n",
      " [0.0 0.0 1.0 3 'female' 26.0 0 0 7.925 0]\n",
      " [0.0 0.0 1.0 1 'female' 35.0 1 0 53.1 1]\n",
      " [0.0 0.0 1.0 3 'male' 35.0 0 0 8.05 0]\n",
      " [0.0 1.0 0.0 3 'male' 29.881137667304014 0 0 8.4583 0]]\n"
     ]
    }
   ],
   "source": [
    "from sklearn.compose import ColumnTransformer\n",
    "from sklearn.preprocessing import OneHotEncoder \n",
    "ct=ColumnTransformer(transformers=[('encoder',OneHotEncoder(),[6])],remainder='passthrough')\n",
    "X=np.array(ct.fit_transform(X))\n",
    "\n",
    "print(X[:6,:])"
   ]
  },
  {
   "cell_type": "code",
   "execution_count": 48,
   "metadata": {},
   "outputs": [
    {
     "name": "stdout",
     "output_type": "stream",
     "text": [
      "[[0.0 0.0 1.0 3 1 22.0 1 0 7.25 1]\n",
      " [1.0 0.0 0.0 1 0 38.0 1 0 71.2833 1]\n",
      " [0.0 0.0 1.0 3 0 26.0 0 0 7.925 0]\n",
      " [0.0 0.0 1.0 1 0 35.0 1 0 53.1 1]\n",
      " [0.0 0.0 1.0 3 1 35.0 0 0 8.05 0]\n",
      " [0.0 1.0 0.0 3 1 29.881137667304014 0 0 8.4583 0]]\n",
      "\n"
     ]
    }
   ],
   "source": [
    "from sklearn.preprocessing import LabelEncoder\n",
    "le=LabelEncoder()\n",
    "X[:,4]=le.fit_transform(X[:,4])\n",
    "print(X[:6,:])\n",
    "print(\"\")"
   ]
  },
  {
   "cell_type": "markdown",
   "metadata": {},
   "source": [
    "Возвращаемся к тренировочному и тестовому набору данных"
   ]
  },
  {
   "cell_type": "code",
   "execution_count": 49,
   "metadata": {},
   "outputs": [
    {
     "name": "stdout",
     "output_type": "stream",
     "text": [
      "(891, 10) (418, 10)\n"
     ]
    }
   ],
   "source": [
    "xx=X[0:418]\n",
    "X=X[:891]\n",
    "print(X.shape,xx.shape)\n",
    "\n"
   ]
  },
  {
   "cell_type": "code",
   "execution_count": 50,
   "metadata": {},
   "outputs": [
    {
     "name": "stdout",
     "output_type": "stream",
     "text": [
      "[[0.0 0.0 1.0 3 1 22.0 1 0 7.25 1]\n",
      " [1.0 0.0 0.0 1 0 38.0 1 0 71.2833 1]\n",
      " [0.0 0.0 1.0 3 0 26.0 0 0 7.925 0]\n",
      " [0.0 0.0 1.0 1 0 35.0 1 0 53.1 1]\n",
      " [0.0 0.0 1.0 3 1 35.0 0 0 8.05 0]\n",
      " [0.0 1.0 0.0 3 1 29.881137667304014 0 0 8.4583 0]]\n"
     ]
    }
   ],
   "source": [
    "\n",
    "print(xx[:6])"
   ]
  },
  {
   "cell_type": "markdown",
   "metadata": {},
   "source": [
    "Далее делим данные на тренировочный и тестовый набор с помощью инструментов sklearn"
   ]
  },
  {
   "cell_type": "code",
   "execution_count": 51,
   "metadata": {},
   "outputs": [
    {
     "name": "stdout",
     "output_type": "stream",
     "text": [
      "[[0.0 0.0 1.0 1 1 42.0 1 0 52.0 1]\n",
      " [0.0 1.0 0.0 3 1 29.881137667304014 1 0 15.5 1]\n",
      " [1.0 0.0 0.0 1 1 49.0 1 0 89.1042 1]\n",
      " [1.0 0.0 0.0 1 0 19.0 1 0 91.0792 1]\n",
      " [0.0 0.0 1.0 1 1 19.0 1 0 53.1 1]\n",
      " [0.0 0.0 1.0 2 0 27.0 1 0 21.0 1]]\n",
      "[[0.0 0.0 1.0 1 0 48.0 0 0 25.9292 0]\n",
      " [0.0 0.0 1.0 3 1 29.881137667304014 0 0 7.8958 0]\n",
      " [0.0 0.0 1.0 2 0 17.0 0 0 10.5 0]\n",
      " [0.0 1.0 0.0 3 0 29.881137667304014 0 0 8.1375 0]\n",
      " [0.0 0.0 1.0 2 0 7.0 0 2 26.25 2]\n",
      " [0.0 0.0 1.0 3 1 21.0 0 0 7.8542 0]]\n",
      "[0 0 1 1 0 0]\n",
      "[1 0 1 0 1 0]\n",
      "(668, 10) (223, 10) (668,) (223,)\n"
     ]
    }
   ],
   "source": [
    "from sklearn.model_selection import train_test_split\n",
    "\n",
    "x_train,x_test,y_train,y_test=train_test_split(X,y,test_size=0.25,random_state=1)\n",
    "print(x_train[:6])\n",
    "print(x_test[:6])\n",
    "print(y_train[:6])\n",
    "print(y_test[:6])\n",
    "print(x_train.shape,x_test.shape, y_train.shape, y_test.shape)"
   ]
  },
  {
   "cell_type": "markdown",
   "metadata": {},
   "source": [
    "Масштабирование признаков"
   ]
  },
  {
   "cell_type": "markdown",
   "metadata": {},
   "source": [
    "Масштабирование признаков (feature scaling) — это важный этап предобработки данных в машинном обучении, который помогает улучшить производительность и сходимость алгоритмов. Вот основные аспекты, касающиеся масштабирования признаков и его необходимости:\n",
    "\n",
    "### Что такое масштабирование признаков?\n",
    "\n",
    "Масштабирование признаков — это процесс изменения диапазона значений признаков (или переменных) в наборе данных. Это может включать в себя:\n",
    "\n",
    "1. **Стандартизация**: Приведение данных к стандартному нормальному распределению (среднее 0 и стандартное отклонение 1). Это достигается путем вычитания среднего значения и деления на стандартное отклонение.\n",
    "2. **Нормализация**: Приведение данных к диапазону [0, 1] или [-1, 1]. Это может быть полезно, когда данные имеют разные масштабы.\n",
    "\n",
    "### Зачем нужно масштабирование признаков?\n",
    "\n",
    "1. **Улучшение сходимости**: Многие алгоритмы машинного обучения, такие как градиентный спуск, быстрее сходятся, когда данные находятся в одном масштабе. Если признаки имеют разные диапазоны, это может привести к медленной сходимости или даже к проблемам с обучением.\n",
    "\n",
    "2. **Сравнение признаков**: Если признаки имеют разные единицы измерения (например, возраст в годах и доход в долларах), их сравнение может быть затруднено. Масштабирование помогает привести все признаки к единому масштабу.\n",
    "\n",
    "3. **Улучшение производительности моделей**: Некоторые алгоритмы, такие как K-ближайших соседей (KNN) и методы на основе расстояний (например, SVM), чувствительны к масштабу данных. Масштабирование может значительно улучшить их производительность.\n",
    "\n",
    "4. **Избежание доминирования признаков**: Если один признак имеет значительно больший диапазон значений, он может доминировать над другими признаками в процессе обучения модели, что может привести к неправильным выводам.\n",
    "\n",
    "### Пример использования\n",
    "\n",
    "В приведенном вами фрагменте кода используется `StandardScaler` для стандартизации признаков в обучающей и тестовой выборках. Это позволяет привести данные к единому масштабу, что улучшает качество и скорость обучения модели."
   ]
  },
  {
   "cell_type": "code",
   "execution_count": 54,
   "metadata": {},
   "outputs": [
    {
     "name": "stdout",
     "output_type": "stream",
     "text": [
      "[[0.0 0.0 1.0 -1.5932633446827138 0.7318689663512502 0.9040165883511854\n",
      "  0.4923686893906595 -0.4868644955601493 0.4442643833982735\n",
      "  0.07784755093219699]\n",
      " [0.0 1.0 0.0 0.8173819877024568 0.7318689663512502 -0.011651581396075283\n",
      "  0.4923686893906595 -0.4868644955601493 -0.34951363834932564\n",
      "  0.07784755093219699]\n",
      " [1.0 0.0 0.0 -1.5932633446827138 0.7318689663512502 1.4329174878141562\n",
      "  0.4923686893906595 -0.4868644955601493 1.2511821498236784\n",
      "  0.07784755093219699]\n",
      " [1.0 0.0 0.0 -1.5932633446827138 -1.3663648084240076 -0.8338006527414333\n",
      "  0.4923686893906595 -0.4868644955601493 1.294133152370295\n",
      "  0.07784755093219699]\n",
      " [0.0 0.0 1.0 -1.5932633446827138 0.7318689663512502 -0.8338006527414333\n",
      "  0.4923686893906595 -0.4868644955601493 0.46818646076600945\n",
      "  0.07784755093219699]\n",
      " [0.0 0.0 1.0 -0.3879406784901286 -1.3663648084240076 -0.2293424819266094\n",
      "  0.4923686893906595 -0.4868644955601493 -0.22990325151064628\n",
      "  0.07784755093219699]]\n",
      "[[0.0 0.0 1.0 -1.5932633446827138 -1.3663648084240076 1.3573602164623033\n",
      "  -0.4894291748271327 -0.4868644955601493 -0.12270624809151569\n",
      "  -0.5804076898615703]\n",
      " [0.0 0.0 1.0 0.8173819877024568 0.7318689663512502 -0.011651581396075283\n",
      "  -0.4894291748271327 -0.4868644955601493 -0.5148847844581775\n",
      "  -0.5804076898615703]\n",
      " [0.0 0.0 1.0 -0.3879406784901286 -1.3663648084240076 -0.9849151954451392\n",
      "  -0.4894291748271327 -0.4868644955601493 -0.45825035365721595\n",
      "  -0.5804076898615703]\n",
      " [0.0 1.0 0.0 0.8173819877024568 -1.3663648084240076\n",
      "  -0.011651581396075283 -0.4894291748271327 -0.4868644955601493\n",
      "  -0.5096284516401941 -0.5804076898615703]\n",
      " [0.0 0.0 1.0 -0.3879406784901286 -1.3663648084240076 -1.7404879089636691\n",
      "  -0.4894291748271327 2.0539595906443795 -0.11572970043736147\n",
      "  0.7361027917259644]\n",
      " [0.0 0.0 1.0 0.8173819877024568 0.7318689663512502 -0.6826861100377273\n",
      "  -0.4894291748271327 -0.4868644955601493 -0.5157894739295392\n",
      "  -0.5804076898615703]]\n"
     ]
    }
   ],
   "source": [
    "from sklearn.preprocessing import StandardScaler\n",
    "sc=StandardScaler()\n",
    "x_train[:,3:]=sc.fit_transform(x_train[:,3:])\n",
    "x_test[:,3:]=sc.transform(x_test[:,3:])\n",
    "xx[:,3:]=sc.transform(xx[:,3:])\n",
    "print(x_train[:6])\n",
    "print(x_test[:6])"
   ]
  },
  {
   "cell_type": "markdown",
   "metadata": {},
   "source": [
    "Метод главных компонент (PCA, Principal Component Analysis) — это статистический метод, используемый для снижения размерности данных. Он позволяет преобразовать набор наблюдений с большим количеством переменных в набор с меньшим количеством переменных, сохраняя при этом как можно больше информации о данных. Вот основные аспекты PCA и его применения:\n",
    "Что такое PCA?\n",
    "\n",
    "    Снижение размерности: PCA позволяет уменьшить количество переменных (или признаков) в наборе данных, что может быть полезно, когда у вас есть много признаков, и вы хотите упростить анализ или визуализацию.\n",
    "\n",
    "    Главные компоненты: PCA находит новые оси (главные компоненты), которые представляют собой линейные комбинации исходных переменных. Эти оси выбираются таким образом, чтобы максимизировать дисперсию данных. Первая главная компонента объясняет наибольшую часть вариации в данных, вторая — наибольшую часть оставшейся вариации и так далее.\n",
    "\n",
    "    Ортогональность: Главные компоненты ортогональны (независимы) друг от друга, что позволяет избежать многоколлинеарности (взаимосвязи между переменными) в данных.\n",
    "\n",
    "Зачем нужен PCA?\n",
    "\n",
    "    Упрощение модели: Уменьшая количество признаков, PCA может помочь упростить модели машинного обучения, что может привести к более быстрой обработке и меньшему риску переобучения.\n",
    "\n",
    "    Визуализация данных: Снижение размерности позволяет визуализировать многомерные данные в 2D или 3D, что может помочь в понимании структуры данных и выявлении паттернов.\n",
    "\n",
    "    Устранение шумов: PCA может помочь в фильтрации шумов в данных, так как он фокусируется на направлениях с наибольшей вариацией, игнорируя менее значимые компоненты.\n",
    "\n",
    "    Подготовка данных: PCA часто используется как предварительный шаг перед применением других методов машинного обучения, чтобы улучшить качество данных и ускорить обучение моделей.\n",
    "\n",
    "Применение PCA\n",
    "\n",
    "PCA находит применение в различных областях, таких как:\n",
    "\n",
    "    Обработка изображений (уменьшение размерности изображений)\n",
    "    Геномика (анализ данных о генах)\n",
    "    Финансовый анализ (снижение размерности финансовых показателей)\n",
    "    Обработка текстов (уменьшение размерности векторных представлений текстов)\n",
    "\n",
    "В целом, PCA является мощным инструментом для анализа и обработки данных, особенно когда работа идет с высокоразмерными наборами данных."
   ]
  },
  {
   "cell_type": "code",
   "execution_count": 55,
   "metadata": {},
   "outputs": [
    {
     "name": "stdout",
     "output_type": "stream",
     "text": [
      "[[-9.87433935e-02 -1.47848304e+00  1.24807222e+00  2.20163617e-02\n",
      "  -5.53133208e-01 -7.71794440e-01]\n",
      " [-2.59759674e-01  9.19049613e-01  6.39943307e-01  4.74414802e-02\n",
      "  -5.73371257e-01  7.12931539e-01]\n",
      " [-1.13469954e-03 -2.31415973e+00  1.34779207e+00  2.53281461e-02\n",
      "  -6.11860745e-01  3.24975462e-01]\n",
      " [ 9.14303613e-01 -1.74302054e+00 -1.16399833e+00 -1.29025252e+00\n",
      "  -1.02408098e+00 -5.63496050e-02]\n",
      " [ 2.25982773e-01 -7.68141776e-01  7.41112245e-01 -1.41500876e+00\n",
      "  -4.92632387e-01 -1.05387261e+00]\n",
      " [ 3.76276143e-01 -1.73586361e-01 -1.06214763e+00  1.58536288e-01\n",
      "  -9.84252051e-01 -5.75361350e-01]]\n",
      "[[-0.71728926 -1.88214947 -0.91378748  1.04118275 -0.46182889 -0.98014956]\n",
      " [-1.16020604  0.8634724   0.35248347 -0.00966819  0.17172668  0.1843944 ]\n",
      " [-0.42499072  0.08496823 -1.70179433 -0.51037341 -0.34189054 -0.77178952]\n",
      " [-0.69364175  0.47582489 -1.62494563  0.53615002 -0.44487431  0.66478169]\n",
      " [ 1.83534674  0.402119   -1.73608238 -0.62572805  1.53817686 -0.92700917]\n",
      " [-1.03734782  1.14345365  0.155988   -0.56061726  0.19454625  0.06955515]]\n",
      "(668, 6) (223, 6)\n"
     ]
    }
   ],
   "source": [
    "from sklearn.decomposition import PCA\n",
    "pca=PCA(n_components=6)\n",
    "x_train=pca.fit_transform(x_train)\n",
    "x_test=pca.transform(x_test)\n",
    "xx = pca.transform(xx)\n",
    "print(x_train[:6])\n",
    "print(x_test[:6])\n",
    "print(x_train.shape,x_test.shape)"
   ]
  },
  {
   "cell_type": "markdown",
   "metadata": {},
   "source": [
    "K-Fold Cross Validation (K-кратная перекрестная проверка) — это метод оценки производительности модели машинного обучения, который помогает избежать переобучения и обеспечивает более надежную оценку качества модели. Давайте разберем, что это такое и зачем он нужен.\n",
    "\n",
    "### Что такое K-Fold Cross Validation?\n",
    "\n",
    "1. **Разделение данных**: В K-Fold Cross Validation весь набор данных делится на K равных (или почти равных) частей, называемых \"фолдами\". Например, если K=5, данные делятся на 5 частей.\n",
    "\n",
    "2. **Обучение и тестирование**: Процесс обучения и тестирования модели выполняется K раз. На каждой итерации:\n",
    "   - Один из фолдов используется в качестве тестового набора (валидационного), а остальные K-1 фолдов используются для обучения модели.\n",
    "   - Модель обучается на K-1 фолдах и затем тестируется на оставшемся фолде.\n",
    "\n",
    "3. **Сбор результатов**: После завершения всех K итераций, результаты (например, точность, F1-меру и т.д.) собираются и усредняются, чтобы получить общую оценку производительности модели.\n",
    "\n",
    "### Зачем нужен K-Fold Cross Validation?\n",
    "\n",
    "1. **Устойчивость к переобучению**: K-Fold Cross Validation помогает выявить, насколько хорошо модель обобщает данные. Если модель показывает высокую производительность только на обучающих данных, но плохо на тестовых, это может указывать на переобучение. Перекрестная проверка позволяет оценить модель на разных поднаборах данных.\n",
    "\n",
    "2. **Более надежная оценка**: Используя K-Fold, мы получаем несколько оценок производительности модели, что позволяет получить более надежную и стабильную оценку, чем при использовании одного разделения на обучающую и тестовую выборки.\n",
    "\n",
    "3. **Эффективное использование данных**: K-Fold Cross Validation позволяет использовать все доступные данные для обучения и тестирования. Каждый экземпляр данных будет использован как в обучающей, так и в тестовой выборке, что особенно полезно при ограниченном объеме данных.\n",
    "\n",
    "4. **Выбор гиперпараметров**: K-Fold Cross Validation часто используется в процессе настройки гиперпараметров модели. Это позволяет оценить, как изменения в гиперпараметрах влияют на производительность модели.\n",
    "\n",
    "### Применение K-Fold Cross Validation\n",
    "\n",
    "K-Fold Cross Validation широко используется в различных задачах машинного обучения, включая классификацию, регрессию и другие области, где необходимо оценить качество модели. Это один из стандартных методов, который помогает исследователям и практикам уверенно оценивать и сравнивать модели."
   ]
  },
  {
   "cell_type": "code",
   "execution_count": 57,
   "metadata": {},
   "outputs": [],
   "source": [
    "def K_Fold_CV(model):\n",
    "    pipeline = make_pipeline(model)\n",
    "    scores = cross_val_score(pipeline, X=x_train, y=y_train, cv=10, n_jobs=1)\n",
    "    print('Cross Validation accuracy: %.3f +/- %.3f' % (np.mean(scores),np.std(scores)))\n",
    "    return (np.mean(scores))"
   ]
  },
  {
   "cell_type": "markdown",
   "metadata": {},
   "source": [
    "Hyperparameter tuning (настройка гиперпараметров) — это процесс оптимизации гиперпараметров модели машинного обучения для достижения наилучших результатов. Гиперпараметры — это параметры, которые не обучаются непосредственно в процессе обучения модели, а устанавливаются заранее. Они могут включать в себя такие параметры, как скорость обучения, количество слоев в нейронной сети, размер мини-батча и другие.\n",
    "\n",
    "Зачем нужно гиперпараметрическое тюнингование:\n",
    "\n",
    "1. **Улучшение производительности модели**: Правильная настройка гиперпараметров может значительно повысить точность и обобщающую способность модели.\n",
    "\n",
    "2. **Избежание переобучения**: Некоторые гиперпараметры могут помочь предотвратить переобучение, что позволяет модели лучше работать на новых, невидимых данных.\n",
    "\n",
    "3. **Оптимизация времени обучения**: Настройка гиперпараметров может помочь сократить время, необходимое для обучения модели, путем выбора более эффективных значений.\n",
    "\n",
    "4. **Адаптация к данным**: Разные наборы данных могут требовать различных настроек гиперпараметров для достижения наилучших результатов.\n",
    "\n",
    "Существует несколько методов гиперпараметрического тюнингования, включая:\n",
    "\n",
    "- **Случайный поиск** (Random Search)\n",
    "- **Сеточный поиск** (Grid Search)\n",
    "- **Байесовская оптимизация** (Bayesian Optimization)\n",
    "- **Методы на основе эволюции** (Evolutionary Methods)\n",
    "\n",
    "Каждый из этих методов имеет свои преимущества и недостатки, и выбор подходящего метода зависит от конкретной задачи и доступных ресурсов."
   ]
  },
  {
   "cell_type": "code",
   "execution_count": 58,
   "metadata": {},
   "outputs": [],
   "source": [
    "# Used to find the best hyperparameters for a given model\n",
    "def best_param(model,param_grid):\n",
    "    gs=GridSearchCV(model,param_grid,cv=10)\n",
    "    gs.fit(x_train,y_train)\n",
    "    print(\"best params: \",gs.best_params_)"
   ]
  },
  {
   "cell_type": "markdown",
   "metadata": {},
   "source": [
    "Confusion matrix (матрица путаницы) — это инструмент, используемый для оценки качества работы классификационной модели в машинном обучении. Она позволяет визуализировать, как хорошо модель классифицирует данные, сравнивая предсказанные классы с истинными классами.\n",
    "\n",
    "### Структура матрицы путаницы\n",
    "\n",
    "Матрица путаницы обычно имеет вид 2x2 для бинарной классификации и может быть расширена для многоклассовой классификации. В случае бинарной классификации она состоит из четырех элементов:\n",
    "\n",
    "- **True Positive (TP)**: количество положительных примеров, правильно классифицированных как положительные.\n",
    "- **True Negative (TN)**: количество отрицательных примеров, правильно классифицированных как отрицательные.\n",
    "- **False Positive (FP)**: количество отрицательных примеров, ошибочно классифицированных как положительные (также называется \"ложные срабатывания\").\n",
    "- **False Negative (FN)**: количество положительных примеров, ошибочно классифицированных как отрицательные (также называется \"ложные отрицания\").\n",
    "\n",
    "### Зачем нужна матрица путаницы\n",
    "\n",
    "1. **Оценка производительности модели**: Матрица путаницы позволяет получить более полное представление о том, как модель работает, чем просто использование одной метрики, такой как точность.\n",
    "\n",
    "2. **Выявление проблем**: Она помогает выявить, какие классы модель путает, что может быть полезно для дальнейшего улучшения модели.\n",
    "\n",
    "3. **Расчет других метрик**: На основе значений в матрице путаницы можно вычислить различные метрики, такие как:\n",
    "   - **Точность (Accuracy)**: (TP + TN) / (TP + TN + FP + FN)\n",
    "   - **Полнота (Recall)**: TP / (TP + FN)\n",
    "   - **Точность (Precision)**: TP / (TP + FP)\n",
    "   - **F1-мера**: 2 * (Precision * Recall) / (Precision + Recall)\n",
    "\n",
    "4. **Анализ многоклассовых задач**: Для многоклассовой классификации матрица путаницы может быть расширена, что позволяет анализировать производительность модели по каждому классу.\n",
    "\n",
    "В целом, матрица путаницы является важным инструментом для анализа и улучшения моделей машинного обучения, особенно в задачах классификации."
   ]
  },
  {
   "cell_type": "code",
   "execution_count": 87,
   "metadata": {},
   "outputs": [],
   "source": [
    "from sklearn.metrics import mean_squared_error\n",
    "best_Acc={\n",
    "    \n",
    "    }\n",
    "def Confusion_Matrix(y_pred,name):\n",
    "    cm=confusion_matrix(y_test,y_pred)\n",
    "    print(cm)\n",
    "    print(\"\")\n",
    "    print(\"Sum of Wrong predictions\",cm[0,1]+cm[1,0])\n",
    "    print(\"Accuracy of the model: \",accuracy_score(y_test,y_pred))\n",
    "    mse = mean_squared_error(y_test, y_pred)\n",
    "    print(\"Mean Squared Error:\", mse)\n",
    "    best_Acc[name]=accuracy_score(y_test,y_pred)"
   ]
  },
  {
   "cell_type": "markdown",
   "metadata": {},
   "source": [
    "Проверка переобучения (checking for overfitting) — это процесс оценки модели машинного обучения, чтобы определить, не слишком ли она адаптировалась к обучающим данным, что может привести к плохой обобщающей способности на новых, невидимых данных.\n",
    "\n",
    "### Что такое переобучение?\n",
    "\n",
    "Переобучение происходит, когда модель слишком сложна и начинает запоминать шум и случайные колебания в обучающих данных, вместо того чтобы выявлять общие закономерности. В результате такая модель может показывать высокую точность на обучающем наборе данных, но низкую точность на тестовом наборе данных.\n",
    "\n",
    "### Зачем необходимо проверять переобучение?\n",
    "\n",
    "1. **Обобщающая способность**: Основная цель модели машинного обучения — хорошо работать на новых данных. Проверка на переобучение помогает убедиться, что модель не просто запомнила обучающие данные, а действительно научилась выявлять закономерности.\n",
    "\n",
    "2. **Оптимизация модели**: Понимание того, что модель переобучена, может помочь в выборе более простых моделей или в применении методов регуляризации, таких как L1 или L2 регуляризация, которые помогают предотвратить переобучение.\n",
    "\n",
    "3. **Выбор гиперпараметров**: Проверка на переобучение может помочь в настройке гиперпараметров модели, таких как количество слоев в нейронной сети или скорость обучения, чтобы достичь лучшего баланса между обучением и обобщением.\n",
    "\n",
    "4. **Улучшение качества предсказаний**: Понимание и устранение переобучения может привести к более точным и надежным предсказаниям, что особенно важно в критически важных приложениях, таких как медицина или финансы.\n",
    "\n",
    "### Методы проверки переобучения\n",
    "\n",
    "1. **Разделение данных**: Использование обучающего, валидационного и тестового наборов данных. Модель обучается на обучающем наборе, а затем проверяется на валидационном и тестовом наборах.\n",
    "\n",
    "2. **Кросс-валидация**: Разделение данных на несколько подмножеств и многократное обучение и тестирование модели на этих подмножествах для получения более надежной оценки производительности.\n",
    "\n",
    "3. **Графики обучения**: Построение графиков, показывающих изменение точности и потерь на обучающем и валидационном наборах данных в процессе обучения. Если точность на обучающем наборе продолжает расти, а на валидационном — начинает снижаться, это может быть признаком переобучения.\n",
    "\n",
    "4. **Регуляризация**: Применение методов регуляризации, чтобы уменьшить сложность модели и предотвратить переобучение.\n",
    "\n",
    "Проверка на переобучение является важным этапом в процессе разработки моделей машинного обучения, так как она помогает обеспечить их надежность и эффективность в реальных условиях."
   ]
  },
  {
   "cell_type": "code",
   "execution_count": 60,
   "metadata": {},
   "outputs": [],
   "source": [
    "def check_Overfitting(yhat_test,model):\n",
    "    yhat_train=model.predict(x_train)\n",
    "    return accuracy_score(y_train,yhat_train),accuracy_score(y_test,yhat_test)"
   ]
  },
  {
   "cell_type": "markdown",
   "metadata": {},
   "source": [
    "Далее разберём основные методы обучения модели, которые могут пригодиться мне далее, для работы с фото"
   ]
  },
  {
   "cell_type": "markdown",
   "metadata": {},
   "source": [
    "**Бустинг** — это метод ансамблевого обучения в машинном обучении, который объединяет несколько слабых моделей (обычно классификаторов) для создания одной сильной модели. Основная идея бустинга заключается в том, чтобы последовательно обучать модели, при этом каждая последующая модель фокусируется на ошибках предыдущих. Это позволяет улучшить общую производительность модели и уменьшить ошибки.\n",
    "\n",
    "### Основные виды бустинга\n",
    "\n",
    "1. **AdaBoost (Adaptive Boosting)**:\n",
    "   - Один из первых и наиболее известных алгоритмов бустинга.\n",
    "   - Работает путем присвоения весов ошибочным классификациям, чтобы последующие модели могли лучше справляться с ними.\n",
    "   - Обычно используется с простыми моделями, такими как решающие деревья с малой глубиной (стебли).\n",
    "\n",
    "2. **Gradient Boosting**:\n",
    "   - Строит модели последовательно, каждая из которых обучается на градиенте ошибки предыдущей модели.\n",
    "   - Позволяет оптимизировать произвольную дифференцируемую функцию потерь.\n",
    "   - Широко используется в задачах регрессии и классификации.\n",
    "\n",
    "3. **XGBoost (Extreme Gradient Boosting)**:\n",
    "   - Расширение алгоритма градиентного бустинга, которое оптимизировано для скорости и производительности.\n",
    "   - Включает регуляризацию, что помогает предотвратить переобучение.\n",
    "   - Часто используется в соревнованиях по машинному обучению из-за своей высокой эффективности.\n",
    "\n",
    "4. **LightGBM**:\n",
    "   - Еще одно расширение градиентного бустинга, разработанное Microsoft.\n",
    "   - Использует метод \"гистограммного\" бустинга, что позволяет значительно ускорить обучение и уменьшить использование памяти.\n",
    "   - Подходит для работы с большими наборами данных.\n",
    "\n",
    "5. **CatBoost**:\n",
    "   - Алгоритм бустинга, разработанный Яндексом, который хорошо работает с категориальными признаками.\n",
    "   - Автоматически обрабатывает категориальные данные, что упрощает предобработку.\n",
    "   - Обеспечивает высокую производительность и устойчивость к переобучению.\n",
    "\n",
    "### Применение бустинга\n",
    "\n",
    "Бустинг используется в различных задачах машинного обучения, включая:\n",
    "\n",
    "- Классификация (например, распознавание образов, анализ текста)\n",
    "- Регрессия (например, предсказание цен, временные ряды)\n",
    "- Ранжирование (например, в системах рекомендаций)\n",
    "\n",
    "Бустинг является мощным инструментом, который может значительно улучшить качество предсказаний, особенно в сложных задачах. Однако важно следить за переобучением, так как сложные модели могут легко подстраиваться под шум в данных."
   ]
  },
  {
   "cell_type": "code",
   "execution_count": 88,
   "metadata": {},
   "outputs": [
    {
     "name": "stdout",
     "output_type": "stream",
     "text": [
      "Cross Validation accuracy: 0.798 +/- 0.068\n"
     ]
    },
    {
     "data": {
      "text/html": [
       "<style>#sk-container-id-7 {\n",
       "  /* Definition of color scheme common for light and dark mode */\n",
       "  --sklearn-color-text: black;\n",
       "  --sklearn-color-line: gray;\n",
       "  /* Definition of color scheme for unfitted estimators */\n",
       "  --sklearn-color-unfitted-level-0: #fff5e6;\n",
       "  --sklearn-color-unfitted-level-1: #f6e4d2;\n",
       "  --sklearn-color-unfitted-level-2: #ffe0b3;\n",
       "  --sklearn-color-unfitted-level-3: chocolate;\n",
       "  /* Definition of color scheme for fitted estimators */\n",
       "  --sklearn-color-fitted-level-0: #f0f8ff;\n",
       "  --sklearn-color-fitted-level-1: #d4ebff;\n",
       "  --sklearn-color-fitted-level-2: #b3dbfd;\n",
       "  --sklearn-color-fitted-level-3: cornflowerblue;\n",
       "\n",
       "  /* Specific color for light theme */\n",
       "  --sklearn-color-text-on-default-background: var(--sg-text-color, var(--theme-code-foreground, var(--jp-content-font-color1, black)));\n",
       "  --sklearn-color-background: var(--sg-background-color, var(--theme-background, var(--jp-layout-color0, white)));\n",
       "  --sklearn-color-border-box: var(--sg-text-color, var(--theme-code-foreground, var(--jp-content-font-color1, black)));\n",
       "  --sklearn-color-icon: #696969;\n",
       "\n",
       "  @media (prefers-color-scheme: dark) {\n",
       "    /* Redefinition of color scheme for dark theme */\n",
       "    --sklearn-color-text-on-default-background: var(--sg-text-color, var(--theme-code-foreground, var(--jp-content-font-color1, white)));\n",
       "    --sklearn-color-background: var(--sg-background-color, var(--theme-background, var(--jp-layout-color0, #111)));\n",
       "    --sklearn-color-border-box: var(--sg-text-color, var(--theme-code-foreground, var(--jp-content-font-color1, white)));\n",
       "    --sklearn-color-icon: #878787;\n",
       "  }\n",
       "}\n",
       "\n",
       "#sk-container-id-7 {\n",
       "  color: var(--sklearn-color-text);\n",
       "}\n",
       "\n",
       "#sk-container-id-7 pre {\n",
       "  padding: 0;\n",
       "}\n",
       "\n",
       "#sk-container-id-7 input.sk-hidden--visually {\n",
       "  border: 0;\n",
       "  clip: rect(1px 1px 1px 1px);\n",
       "  clip: rect(1px, 1px, 1px, 1px);\n",
       "  height: 1px;\n",
       "  margin: -1px;\n",
       "  overflow: hidden;\n",
       "  padding: 0;\n",
       "  position: absolute;\n",
       "  width: 1px;\n",
       "}\n",
       "\n",
       "#sk-container-id-7 div.sk-dashed-wrapped {\n",
       "  border: 1px dashed var(--sklearn-color-line);\n",
       "  margin: 0 0.4em 0.5em 0.4em;\n",
       "  box-sizing: border-box;\n",
       "  padding-bottom: 0.4em;\n",
       "  background-color: var(--sklearn-color-background);\n",
       "}\n",
       "\n",
       "#sk-container-id-7 div.sk-container {\n",
       "  /* jupyter's `normalize.less` sets `[hidden] { display: none; }`\n",
       "     but bootstrap.min.css set `[hidden] { display: none !important; }`\n",
       "     so we also need the `!important` here to be able to override the\n",
       "     default hidden behavior on the sphinx rendered scikit-learn.org.\n",
       "     See: https://github.com/scikit-learn/scikit-learn/issues/21755 */\n",
       "  display: inline-block !important;\n",
       "  position: relative;\n",
       "}\n",
       "\n",
       "#sk-container-id-7 div.sk-text-repr-fallback {\n",
       "  display: none;\n",
       "}\n",
       "\n",
       "div.sk-parallel-item,\n",
       "div.sk-serial,\n",
       "div.sk-item {\n",
       "  /* draw centered vertical line to link estimators */\n",
       "  background-image: linear-gradient(var(--sklearn-color-text-on-default-background), var(--sklearn-color-text-on-default-background));\n",
       "  background-size: 2px 100%;\n",
       "  background-repeat: no-repeat;\n",
       "  background-position: center center;\n",
       "}\n",
       "\n",
       "/* Parallel-specific style estimator block */\n",
       "\n",
       "#sk-container-id-7 div.sk-parallel-item::after {\n",
       "  content: \"\";\n",
       "  width: 100%;\n",
       "  border-bottom: 2px solid var(--sklearn-color-text-on-default-background);\n",
       "  flex-grow: 1;\n",
       "}\n",
       "\n",
       "#sk-container-id-7 div.sk-parallel {\n",
       "  display: flex;\n",
       "  align-items: stretch;\n",
       "  justify-content: center;\n",
       "  background-color: var(--sklearn-color-background);\n",
       "  position: relative;\n",
       "}\n",
       "\n",
       "#sk-container-id-7 div.sk-parallel-item {\n",
       "  display: flex;\n",
       "  flex-direction: column;\n",
       "}\n",
       "\n",
       "#sk-container-id-7 div.sk-parallel-item:first-child::after {\n",
       "  align-self: flex-end;\n",
       "  width: 50%;\n",
       "}\n",
       "\n",
       "#sk-container-id-7 div.sk-parallel-item:last-child::after {\n",
       "  align-self: flex-start;\n",
       "  width: 50%;\n",
       "}\n",
       "\n",
       "#sk-container-id-7 div.sk-parallel-item:only-child::after {\n",
       "  width: 0;\n",
       "}\n",
       "\n",
       "/* Serial-specific style estimator block */\n",
       "\n",
       "#sk-container-id-7 div.sk-serial {\n",
       "  display: flex;\n",
       "  flex-direction: column;\n",
       "  align-items: center;\n",
       "  background-color: var(--sklearn-color-background);\n",
       "  padding-right: 1em;\n",
       "  padding-left: 1em;\n",
       "}\n",
       "\n",
       "\n",
       "/* Toggleable style: style used for estimator/Pipeline/ColumnTransformer box that is\n",
       "clickable and can be expanded/collapsed.\n",
       "- Pipeline and ColumnTransformer use this feature and define the default style\n",
       "- Estimators will overwrite some part of the style using the `sk-estimator` class\n",
       "*/\n",
       "\n",
       "/* Pipeline and ColumnTransformer style (default) */\n",
       "\n",
       "#sk-container-id-7 div.sk-toggleable {\n",
       "  /* Default theme specific background. It is overwritten whether we have a\n",
       "  specific estimator or a Pipeline/ColumnTransformer */\n",
       "  background-color: var(--sklearn-color-background);\n",
       "}\n",
       "\n",
       "/* Toggleable label */\n",
       "#sk-container-id-7 label.sk-toggleable__label {\n",
       "  cursor: pointer;\n",
       "  display: block;\n",
       "  width: 100%;\n",
       "  margin-bottom: 0;\n",
       "  padding: 0.5em;\n",
       "  box-sizing: border-box;\n",
       "  text-align: center;\n",
       "}\n",
       "\n",
       "#sk-container-id-7 label.sk-toggleable__label-arrow:before {\n",
       "  /* Arrow on the left of the label */\n",
       "  content: \"▸\";\n",
       "  float: left;\n",
       "  margin-right: 0.25em;\n",
       "  color: var(--sklearn-color-icon);\n",
       "}\n",
       "\n",
       "#sk-container-id-7 label.sk-toggleable__label-arrow:hover:before {\n",
       "  color: var(--sklearn-color-text);\n",
       "}\n",
       "\n",
       "/* Toggleable content - dropdown */\n",
       "\n",
       "#sk-container-id-7 div.sk-toggleable__content {\n",
       "  max-height: 0;\n",
       "  max-width: 0;\n",
       "  overflow: hidden;\n",
       "  text-align: left;\n",
       "  /* unfitted */\n",
       "  background-color: var(--sklearn-color-unfitted-level-0);\n",
       "}\n",
       "\n",
       "#sk-container-id-7 div.sk-toggleable__content.fitted {\n",
       "  /* fitted */\n",
       "  background-color: var(--sklearn-color-fitted-level-0);\n",
       "}\n",
       "\n",
       "#sk-container-id-7 div.sk-toggleable__content pre {\n",
       "  margin: 0.2em;\n",
       "  border-radius: 0.25em;\n",
       "  color: var(--sklearn-color-text);\n",
       "  /* unfitted */\n",
       "  background-color: var(--sklearn-color-unfitted-level-0);\n",
       "}\n",
       "\n",
       "#sk-container-id-7 div.sk-toggleable__content.fitted pre {\n",
       "  /* unfitted */\n",
       "  background-color: var(--sklearn-color-fitted-level-0);\n",
       "}\n",
       "\n",
       "#sk-container-id-7 input.sk-toggleable__control:checked~div.sk-toggleable__content {\n",
       "  /* Expand drop-down */\n",
       "  max-height: 200px;\n",
       "  max-width: 100%;\n",
       "  overflow: auto;\n",
       "}\n",
       "\n",
       "#sk-container-id-7 input.sk-toggleable__control:checked~label.sk-toggleable__label-arrow:before {\n",
       "  content: \"▾\";\n",
       "}\n",
       "\n",
       "/* Pipeline/ColumnTransformer-specific style */\n",
       "\n",
       "#sk-container-id-7 div.sk-label input.sk-toggleable__control:checked~label.sk-toggleable__label {\n",
       "  color: var(--sklearn-color-text);\n",
       "  background-color: var(--sklearn-color-unfitted-level-2);\n",
       "}\n",
       "\n",
       "#sk-container-id-7 div.sk-label.fitted input.sk-toggleable__control:checked~label.sk-toggleable__label {\n",
       "  background-color: var(--sklearn-color-fitted-level-2);\n",
       "}\n",
       "\n",
       "/* Estimator-specific style */\n",
       "\n",
       "/* Colorize estimator box */\n",
       "#sk-container-id-7 div.sk-estimator input.sk-toggleable__control:checked~label.sk-toggleable__label {\n",
       "  /* unfitted */\n",
       "  background-color: var(--sklearn-color-unfitted-level-2);\n",
       "}\n",
       "\n",
       "#sk-container-id-7 div.sk-estimator.fitted input.sk-toggleable__control:checked~label.sk-toggleable__label {\n",
       "  /* fitted */\n",
       "  background-color: var(--sklearn-color-fitted-level-2);\n",
       "}\n",
       "\n",
       "#sk-container-id-7 div.sk-label label.sk-toggleable__label,\n",
       "#sk-container-id-7 div.sk-label label {\n",
       "  /* The background is the default theme color */\n",
       "  color: var(--sklearn-color-text-on-default-background);\n",
       "}\n",
       "\n",
       "/* On hover, darken the color of the background */\n",
       "#sk-container-id-7 div.sk-label:hover label.sk-toggleable__label {\n",
       "  color: var(--sklearn-color-text);\n",
       "  background-color: var(--sklearn-color-unfitted-level-2);\n",
       "}\n",
       "\n",
       "/* Label box, darken color on hover, fitted */\n",
       "#sk-container-id-7 div.sk-label.fitted:hover label.sk-toggleable__label.fitted {\n",
       "  color: var(--sklearn-color-text);\n",
       "  background-color: var(--sklearn-color-fitted-level-2);\n",
       "}\n",
       "\n",
       "/* Estimator label */\n",
       "\n",
       "#sk-container-id-7 div.sk-label label {\n",
       "  font-family: monospace;\n",
       "  font-weight: bold;\n",
       "  display: inline-block;\n",
       "  line-height: 1.2em;\n",
       "}\n",
       "\n",
       "#sk-container-id-7 div.sk-label-container {\n",
       "  text-align: center;\n",
       "}\n",
       "\n",
       "/* Estimator-specific */\n",
       "#sk-container-id-7 div.sk-estimator {\n",
       "  font-family: monospace;\n",
       "  border: 1px dotted var(--sklearn-color-border-box);\n",
       "  border-radius: 0.25em;\n",
       "  box-sizing: border-box;\n",
       "  margin-bottom: 0.5em;\n",
       "  /* unfitted */\n",
       "  background-color: var(--sklearn-color-unfitted-level-0);\n",
       "}\n",
       "\n",
       "#sk-container-id-7 div.sk-estimator.fitted {\n",
       "  /* fitted */\n",
       "  background-color: var(--sklearn-color-fitted-level-0);\n",
       "}\n",
       "\n",
       "/* on hover */\n",
       "#sk-container-id-7 div.sk-estimator:hover {\n",
       "  /* unfitted */\n",
       "  background-color: var(--sklearn-color-unfitted-level-2);\n",
       "}\n",
       "\n",
       "#sk-container-id-7 div.sk-estimator.fitted:hover {\n",
       "  /* fitted */\n",
       "  background-color: var(--sklearn-color-fitted-level-2);\n",
       "}\n",
       "\n",
       "/* Specification for estimator info (e.g. \"i\" and \"?\") */\n",
       "\n",
       "/* Common style for \"i\" and \"?\" */\n",
       "\n",
       ".sk-estimator-doc-link,\n",
       "a:link.sk-estimator-doc-link,\n",
       "a:visited.sk-estimator-doc-link {\n",
       "  float: right;\n",
       "  font-size: smaller;\n",
       "  line-height: 1em;\n",
       "  font-family: monospace;\n",
       "  background-color: var(--sklearn-color-background);\n",
       "  border-radius: 1em;\n",
       "  height: 1em;\n",
       "  width: 1em;\n",
       "  text-decoration: none !important;\n",
       "  margin-left: 1ex;\n",
       "  /* unfitted */\n",
       "  border: var(--sklearn-color-unfitted-level-1) 1pt solid;\n",
       "  color: var(--sklearn-color-unfitted-level-1);\n",
       "}\n",
       "\n",
       ".sk-estimator-doc-link.fitted,\n",
       "a:link.sk-estimator-doc-link.fitted,\n",
       "a:visited.sk-estimator-doc-link.fitted {\n",
       "  /* fitted */\n",
       "  border: var(--sklearn-color-fitted-level-1) 1pt solid;\n",
       "  color: var(--sklearn-color-fitted-level-1);\n",
       "}\n",
       "\n",
       "/* On hover */\n",
       "div.sk-estimator:hover .sk-estimator-doc-link:hover,\n",
       ".sk-estimator-doc-link:hover,\n",
       "div.sk-label-container:hover .sk-estimator-doc-link:hover,\n",
       ".sk-estimator-doc-link:hover {\n",
       "  /* unfitted */\n",
       "  background-color: var(--sklearn-color-unfitted-level-3);\n",
       "  color: var(--sklearn-color-background);\n",
       "  text-decoration: none;\n",
       "}\n",
       "\n",
       "div.sk-estimator.fitted:hover .sk-estimator-doc-link.fitted:hover,\n",
       ".sk-estimator-doc-link.fitted:hover,\n",
       "div.sk-label-container:hover .sk-estimator-doc-link.fitted:hover,\n",
       ".sk-estimator-doc-link.fitted:hover {\n",
       "  /* fitted */\n",
       "  background-color: var(--sklearn-color-fitted-level-3);\n",
       "  color: var(--sklearn-color-background);\n",
       "  text-decoration: none;\n",
       "}\n",
       "\n",
       "/* Span, style for the box shown on hovering the info icon */\n",
       ".sk-estimator-doc-link span {\n",
       "  display: none;\n",
       "  z-index: 9999;\n",
       "  position: relative;\n",
       "  font-weight: normal;\n",
       "  right: .2ex;\n",
       "  padding: .5ex;\n",
       "  margin: .5ex;\n",
       "  width: min-content;\n",
       "  min-width: 20ex;\n",
       "  max-width: 50ex;\n",
       "  color: var(--sklearn-color-text);\n",
       "  box-shadow: 2pt 2pt 4pt #999;\n",
       "  /* unfitted */\n",
       "  background: var(--sklearn-color-unfitted-level-0);\n",
       "  border: .5pt solid var(--sklearn-color-unfitted-level-3);\n",
       "}\n",
       "\n",
       ".sk-estimator-doc-link.fitted span {\n",
       "  /* fitted */\n",
       "  background: var(--sklearn-color-fitted-level-0);\n",
       "  border: var(--sklearn-color-fitted-level-3);\n",
       "}\n",
       "\n",
       ".sk-estimator-doc-link:hover span {\n",
       "  display: block;\n",
       "}\n",
       "\n",
       "/* \"?\"-specific style due to the `<a>` HTML tag */\n",
       "\n",
       "#sk-container-id-7 a.estimator_doc_link {\n",
       "  float: right;\n",
       "  font-size: 1rem;\n",
       "  line-height: 1em;\n",
       "  font-family: monospace;\n",
       "  background-color: var(--sklearn-color-background);\n",
       "  border-radius: 1rem;\n",
       "  height: 1rem;\n",
       "  width: 1rem;\n",
       "  text-decoration: none;\n",
       "  /* unfitted */\n",
       "  color: var(--sklearn-color-unfitted-level-1);\n",
       "  border: var(--sklearn-color-unfitted-level-1) 1pt solid;\n",
       "}\n",
       "\n",
       "#sk-container-id-7 a.estimator_doc_link.fitted {\n",
       "  /* fitted */\n",
       "  border: var(--sklearn-color-fitted-level-1) 1pt solid;\n",
       "  color: var(--sklearn-color-fitted-level-1);\n",
       "}\n",
       "\n",
       "/* On hover */\n",
       "#sk-container-id-7 a.estimator_doc_link:hover {\n",
       "  /* unfitted */\n",
       "  background-color: var(--sklearn-color-unfitted-level-3);\n",
       "  color: var(--sklearn-color-background);\n",
       "  text-decoration: none;\n",
       "}\n",
       "\n",
       "#sk-container-id-7 a.estimator_doc_link.fitted:hover {\n",
       "  /* fitted */\n",
       "  background-color: var(--sklearn-color-fitted-level-3);\n",
       "}\n",
       "</style><div id=\"sk-container-id-7\" class=\"sk-top-container\"><div class=\"sk-text-repr-fallback\"><pre>GradientBoostingClassifier(learning_rate=0.01, max_depth=15, n_estimators=1000,\n",
       "                           random_state=42)</pre><b>In a Jupyter environment, please rerun this cell to show the HTML representation or trust the notebook. <br />On GitHub, the HTML representation is unable to render, please try loading this page with nbviewer.org.</b></div><div class=\"sk-container\" hidden><div class=\"sk-item\"><div class=\"sk-estimator fitted sk-toggleable\"><input class=\"sk-toggleable__control sk-hidden--visually\" id=\"sk-estimator-id-7\" type=\"checkbox\" checked><label for=\"sk-estimator-id-7\" class=\"sk-toggleable__label fitted sk-toggleable__label-arrow fitted\">&nbsp;&nbsp;GradientBoostingClassifier<a class=\"sk-estimator-doc-link fitted\" rel=\"noreferrer\" target=\"_blank\" href=\"https://scikit-learn.org/1.5/modules/generated/sklearn.ensemble.GradientBoostingClassifier.html\">?<span>Documentation for GradientBoostingClassifier</span></a><span class=\"sk-estimator-doc-link fitted\">i<span>Fitted</span></span></label><div class=\"sk-toggleable__content fitted\"><pre>GradientBoostingClassifier(learning_rate=0.01, max_depth=15, n_estimators=1000,\n",
       "                           random_state=42)</pre></div> </div></div></div></div>"
      ],
      "text/plain": [
       "GradientBoostingClassifier(learning_rate=0.01, max_depth=15, n_estimators=1000,\n",
       "                           random_state=42)"
      ]
     },
     "execution_count": 88,
     "metadata": {},
     "output_type": "execute_result"
    }
   ],
   "source": [
    "from sklearn.ensemble import GradientBoostingClassifier\n",
    "classifier = GradientBoostingClassifier(n_estimators=1000, learning_rate=0.01, max_depth=15, random_state=42)\n",
    "best_K_FCV={\n",
    "    \"GradientBoostingClassifier\":K_Fold_CV(classifier)\n",
    "}\n",
    "classifier.fit(x_train,y_train)"
   ]
  },
  {
   "cell_type": "code",
   "execution_count": null,
   "metadata": {},
   "outputs": [],
   "source": [
    "y_pred=classifier.predict(x_test)\n",
    "Overfitting={\n",
    "    \"train_Log,test_log\":check_Overfitting(y_pred,classifier)\n",
    "}\n",
    "y_pred_TD_LogR=classifier.predict(xx)"
   ]
  },
  {
   "cell_type": "code",
   "execution_count": 90,
   "metadata": {},
   "outputs": [
    {
     "name": "stdout",
     "output_type": "stream",
     "text": [
      "[[1 1]\n",
      " [0 0]\n",
      " [1 1]\n",
      " [1 0]\n",
      " [1 1]\n",
      " [0 0]\n",
      " [0 0]\n",
      " [1 1]\n",
      " [1 0]\n",
      " [1 1]\n",
      " [0 0]\n",
      " [1 1]\n",
      " [0 0]\n",
      " [0 1]\n",
      " [1 1]\n",
      " [1 1]\n",
      " [0 0]\n",
      " [0 0]\n",
      " [0 0]\n",
      " [0 1]]\n"
     ]
    }
   ],
   "source": [
    "print((np.concatenate((y_pred.reshape(len(y_pred),1),y_test.reshape(len(y_test),1)),1))[:20])"
   ]
  },
  {
   "cell_type": "code",
   "execution_count": 91,
   "metadata": {},
   "outputs": [
    {
     "name": "stdout",
     "output_type": "stream",
     "text": [
      "[[104  24]\n",
      " [ 35  60]]\n",
      "\n",
      "Sum of Wrong predictions 59\n",
      "Accuracy of the model:  0.7354260089686099\n",
      "Mean Squared Error: 0.2645739910313901\n"
     ]
    }
   ],
   "source": [
    "Confusion_Matrix(y_pred,\"Logistic Regression\")"
   ]
  },
  {
   "cell_type": "markdown",
   "metadata": {},
   "source": [
    "Кластеризация"
   ]
  },
  {
   "cell_type": "code",
   "execution_count": 108,
   "metadata": {},
   "outputs": [
    {
     "name": "stdout",
     "output_type": "stream",
     "text": [
      "Cross Validation accuracy: -24.932 +/- 9.818\n",
      "[[210   1]\n",
      " [428   0]\n",
      " [326   1]\n",
      " [546   0]\n",
      " [158   1]\n",
      " [588   0]\n",
      " [161   0]\n",
      " [353   1]\n",
      " [242   0]\n",
      " [355   1]\n",
      " [189   0]\n",
      " [  6   1]\n",
      " [430   0]\n",
      " [385   1]\n",
      " [593   1]\n",
      " [469   1]\n",
      " [145   0]\n",
      " [357   0]\n",
      " [361   0]\n",
      " [ 32   1]]\n",
      "[[0 0 0 ... 1 0 0]\n",
      " [1 0 1 ... 0 1 3]\n",
      " [0 0 0 ... 0 0 0]\n",
      " ...\n",
      " [0 0 0 ... 0 0 0]\n",
      " [0 0 0 ... 0 0 0]\n",
      " [0 0 0 ... 0 0 0]]\n",
      "\n",
      "Sum of Wrong predictions 1\n",
      "Accuracy of the model:  0.0\n",
      "Mean Squared Error: 118623.78923766816\n"
     ]
    }
   ],
   "source": [
    "from sklearn.cluster import KMeans\n",
    "classifier = KMeans(n_clusters=600, random_state=42)\n",
    "best_K_FCV={\n",
    "    \"KMeans\":K_Fold_CV(classifier)\n",
    "}\n",
    "classifier.fit(x_train,y_train)\n",
    "\n",
    "y_pred=classifier.predict(x_test)\n",
    "Overfitting={\n",
    "    \"train_Log,test_log\":check_Overfitting(y_pred,classifier)\n",
    "}\n",
    "y_pred_TD_LogR=classifier.predict(xx)\n",
    "print((np.concatenate((y_pred.reshape(len(y_pred),1),y_test.reshape(len(y_test),1)),1))[:20])\n",
    "Confusion_Matrix(y_pred,\"Logistic Regression\")"
   ]
  },
  {
   "cell_type": "code",
   "execution_count": null,
   "metadata": {},
   "outputs": [],
   "source": []
  }
 ],
 "metadata": {
  "kernelspec": {
   "display_name": ".venv",
   "language": "python",
   "name": "python3"
  },
  "language_info": {
   "codemirror_mode": {
    "name": "ipython",
    "version": 3
   },
   "file_extension": ".py",
   "mimetype": "text/x-python",
   "name": "python",
   "nbconvert_exporter": "python",
   "pygments_lexer": "ipython3",
   "version": "3.12.7"
  }
 },
 "nbformat": 4,
 "nbformat_minor": 2
}
